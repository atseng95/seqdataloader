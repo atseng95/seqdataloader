{
 "cells": [
  {
   "cell_type": "code",
   "execution_count": 1,
   "metadata": {},
   "outputs": [],
   "source": [
    "#load dragonn tutorial utilities \n",
    "%reload_ext autoreload\n",
    "%autoreload 2\n",
    "%matplotlib inline\n",
    "import warnings\n",
    "warnings.filterwarnings('ignore')"
   ]
  },
  {
   "cell_type": "markdown",
   "metadata": {},
   "source": [
    "## Ingesting data into tileDB "
   ]
  },
  {
   "cell_type": "code",
   "execution_count": 9,
   "metadata": {},
   "outputs": [],
   "source": [
    "from seqdataloader.dbingest import * "
   ]
  },
  {
   "cell_type": "markdown",
   "metadata": {},
   "source": [
    "The header of the input task file should contain (one or more) of the following fields: \n",
    "    * dataset (this one's required -- it's a unique label for your dataset) \n",
    "    * pval_bigwig \n",
    "    * fc_bigwig \n",
    "    * count_bigwig_plus_5p \n",
    "    * count_bigwig_minux_5p\n",
    "    * idr_peak\n",
    "    * overlap_peak \n",
    "    * ambig_peak \n",
    "    \n",
    "The file paths can be either local or web-based URL's. "
   ]
  },
  {
   "cell_type": "code",
   "execution_count": 7,
   "metadata": {},
   "outputs": [
    {
     "name": "stdout",
     "output_type": "stream",
     "text": [
      "dataset\tidr_peak\tfc_bigwig\tambig_peak\r\n",
      "ENCFF209DJG\thttps://www.encodeproject.org/files/ENCFF209DJG/@@download/ENCFF209DJG.bed.gz\thttps://www.encodeproject.org/files/ENCFF842XRQ/@@download/ENCFF842XRQ.bigWig\thg38.blacklist.bed.gz\r\n"
     ]
    }
   ],
   "source": [
    "!cat tasks.dbingest.tsv"
   ]
  },
  {
   "cell_type": "markdown",
   "metadata": {},
   "source": [
    "You can run the ingest code as a python function: "
   ]
  },
  {
   "cell_type": "code",
   "execution_count": 10,
   "metadata": {},
   "outputs": [
    {
     "name": "stdout",
     "output_type": "stream",
     "text": [
      "loaded tiledb metadata\n",
      "loaded chrom sizes\n",
      "tiledb group already exists\n",
      "got data dict\n",
      "parsed pool inputs\n",
      "made pool!\n",
      "chrom:chr21\n",
      "size:46709983\n",
      "array_out_name:hepg2_dnase_encode/ENCFF209DJG.chr21\n",
      "data_dict:{'idr_peak':            0         1         2  3  4  5      6  7  8   9\n",
      "0       chr1    128629    128779  .  0  .   10.0 -1 -1  75\n",
      "1       chr1    181415    181565  .  0  .  131.0 -1 -1  75\n",
      "2       chr1    190825    190975  .  0  .   70.0 -1 -1  75\n",
      "3       chr1    267990    268140  .  0  .  133.0 -1 -1  75\n",
      "4       chr1    629155    629305  .  0  .  603.0 -1 -1  75\n",
      "...      ...       ...       ... .. .. ..    ... .. ..  ..\n",
      "178371  chrY  56847895  56848045  .  0  .   31.0 -1 -1  75\n",
      "178372  chrY  56848355  56848505  .  0  .   47.0 -1 -1  75\n",
      "178373  chrY  56848861  56849011  .  0  .   23.0 -1 -1  75\n",
      "178374  chrY  56849334  56849484  .  0  .   58.0 -1 -1  75\n",
      "178375  chrY  56851495  56851645  .  0  .   71.0 -1 -1  75\n",
      "\n",
      "[178376 rows x 10 columns], 'fc_bigwig': 'https://www.encodeproject.org/files/ENCFF842XRQ/@@download/ENCFF842XRQ.bigWig', 'ambig_peak':         0          1          2\n",
      "0   chr10   38528030   38529790\n",
      "1   chr10   42070420   42070660\n",
      "2   chr16   34571420   34571640\n",
      "3   chr16   34572700   34572930\n",
      "4   chr16   34584530   34584840\n",
      "5   chr16   34585000   34585220\n",
      "6   chr16   34585700   34586380\n",
      "7   chr16   34586660   34587100\n",
      "8   chr16   34587060   34587660\n",
      "9   chr16   34587900   34588170\n",
      "10  chr16   34593000   34593590\n",
      "11  chr16   34594490   34594720\n",
      "12  chr16   34594900   34595150\n",
      "13  chr16   34595320   34595570\n",
      "14  chr16   46380910   46381140\n",
      "15  chr16   46386270   46386530\n",
      "16  chr16   46390180   46390930\n",
      "17  chr16   46394370   46395100\n",
      "18  chr16   46395670   46395910\n",
      "19  chr16   46398780   46399020\n",
      "20  chr16   46400700   46400970\n",
      "21   chr1  124450730  124450960\n",
      "22  chr20   28513520   28513770\n",
      "23  chr20   31060210   31060770\n",
      "24  chr20   31061050   31061560\n",
      "25  chr20   31063990   31064490\n",
      "26  chr20   31067930   31069060\n",
      "27  chr20   31069000   31069280\n",
      "28  chr21    8219780    8220120\n",
      "29  chr21    8234330    8234620\n",
      "30   chr2   90397520   90397900\n",
      "31   chr2   90398120   90398760\n",
      "32   chr3   93470260   93470870\n",
      "33   chr4   49118760   49119010\n",
      "34   chr4   49120790   49121130\n",
      "35   chr5   49601430   49602300\n",
      "36   chr5   49657080   49657690\n",
      "37   chr5   49661330   49661570}\n",
      "attribute_info:{'pval_bigwig': {'dtype': 'float32', 'opener': <function open_bigwig_for_parsing at 0x7f1cd364c268>, 'parser': <function parse_bigwig_chrom_vals at 0x7f1cd364c2f0>, 'store_summits': False}, 'fc_bigwig': {'dtype': 'float32', 'opener': <function open_bigwig_for_parsing at 0x7f1cd364c268>, 'parser': <function parse_bigwig_chrom_vals at 0x7f1cd364c2f0>, 'store_summits': False}, 'count_bigwig_plus_5p': {'dtype': 'float32', 'opener': <function open_bigwig_for_parsing at 0x7f1cd364c268>, 'parser': <function parse_bigwig_chrom_vals at 0x7f1cd364c2f0>, 'store_summits': False}, 'count_bigwig_minux_5p': {'dtype': 'float32', 'opener': <function open_bigwig_for_parsing at 0x7f1cd364c268>, 'parser': <function parse_bigwig_chrom_vals at 0x7f1cd364c2f0>, 'store_summits': False}, 'idr_peak': {'dtype': 'int', 'opener': <function open_csv_for_parsing at 0x7f1cd364c1e0>, 'parser': <function parse_narrowPeak_chrom_vals at 0x7f1cd364c378>, 'store_summits': True, 'summit_indicator': 2}, 'overlap_peak': {'dtype': 'int', 'opener': <function open_csv_for_parsing at 0x7f1cd364c1e0>, 'parser': <function parse_narrowPeak_chrom_vals at 0x7f1cd364c378>, 'store_summits': True, 'summit_indicator': 2}, 'ambig_peak': {'dtype': 'int', 'opener': <function open_csv_for_parsing at 0x7f1cd364c1e0>, 'parser': <function parse_narrowPeak_chrom_vals at 0x7f1cd364c378>, 'store_summits': False}}\n",
      "args:Namespace(batch_size=1000000, chrom_sizes='hg38.chrom21.sizes', chrom_threads=1, overwrite=True, task_threads=1, tile_size=10000, tiledb_group='hepg2_dnase_encode', tiledb_metadata='tasks.dbingest.tsv', write_threads=1)\n",
      "in process chrom\n",
      "warning: the array: hepg2_dnase_encode/ENCFF209DJG.chr21 already exists. You provided the --overwrite flag, so it will be updated/overwritten\n",
      "here\n",
      "store_summits:True\n",
      "summit_indicator:2\n",
      "got:idr_peak for chrom:chr21\n",
      "store_summits:False\n",
      "summit_indicator:None\n",
      "keyboard interrupt detected\n"
     ]
    },
    {
     "ename": "AttributeError",
     "evalue": "'ProcessPoolExecutor' object has no attribute 'terminate'",
     "output_type": "error",
     "traceback": [
      "\u001b[0;31m---------------------------------------------------------------------------\u001b[0m",
      "\u001b[0;31mKeyboardInterrupt\u001b[0m                         Traceback (most recent call last)",
      "\u001b[0;32m~/seqdataloader/seqdataloader/dbingest/__init__.py\u001b[0m in \u001b[0;36mingest\u001b[0;34m(args)\u001b[0m\n\u001b[1;32m    318\u001b[0m         \u001b[0;32mwith\u001b[0m \u001b[0mProcessPoolExecutor\u001b[0m\u001b[0;34m(\u001b[0m\u001b[0mmax_workers\u001b[0m\u001b[0;34m=\u001b[0m\u001b[0margs\u001b[0m\u001b[0;34m.\u001b[0m\u001b[0mtask_threads\u001b[0m\u001b[0;34m,\u001b[0m\u001b[0minitializer\u001b[0m\u001b[0;34m=\u001b[0m\u001b[0minit_worker\u001b[0m\u001b[0;34m)\u001b[0m \u001b[0;32mas\u001b[0m \u001b[0mpool\u001b[0m\u001b[0;34m:\u001b[0m\u001b[0;34m\u001b[0m\u001b[0m\n\u001b[0;32m--> 319\u001b[0;31m             \u001b[0mresults\u001b[0m\u001b[0;34m=\u001b[0m\u001b[0mpool\u001b[0m\u001b[0;34m.\u001b[0m\u001b[0mmap\u001b[0m\u001b[0;34m(\u001b[0m\u001b[0mcreate_tiledb_array\u001b[0m\u001b[0;34m,\u001b[0m\u001b[0mpool_inputs\u001b[0m\u001b[0;34m)\u001b[0m\u001b[0;34m\u001b[0m\u001b[0m\n\u001b[0m\u001b[1;32m    320\u001b[0m     \u001b[0;32mexcept\u001b[0m \u001b[0mKeyboardInterrupt\u001b[0m\u001b[0;34m:\u001b[0m\u001b[0;34m\u001b[0m\u001b[0m\n",
      "\u001b[0;32m~/miniconda3/lib/python3.7/concurrent/futures/_base.py\u001b[0m in \u001b[0;36m__exit__\u001b[0;34m(self, exc_type, exc_val, exc_tb)\u001b[0m\n\u001b[1;32m    610\u001b[0m     \u001b[0;32mdef\u001b[0m \u001b[0m__exit__\u001b[0m\u001b[0;34m(\u001b[0m\u001b[0mself\u001b[0m\u001b[0;34m,\u001b[0m \u001b[0mexc_type\u001b[0m\u001b[0;34m,\u001b[0m \u001b[0mexc_val\u001b[0m\u001b[0;34m,\u001b[0m \u001b[0mexc_tb\u001b[0m\u001b[0;34m)\u001b[0m\u001b[0;34m:\u001b[0m\u001b[0;34m\u001b[0m\u001b[0m\n\u001b[0;32m--> 611\u001b[0;31m         \u001b[0mself\u001b[0m\u001b[0;34m.\u001b[0m\u001b[0mshutdown\u001b[0m\u001b[0;34m(\u001b[0m\u001b[0mwait\u001b[0m\u001b[0;34m=\u001b[0m\u001b[0;32mTrue\u001b[0m\u001b[0;34m)\u001b[0m\u001b[0;34m\u001b[0m\u001b[0m\n\u001b[0m\u001b[1;32m    612\u001b[0m         \u001b[0;32mreturn\u001b[0m \u001b[0;32mFalse\u001b[0m\u001b[0;34m\u001b[0m\u001b[0m\n",
      "\u001b[0;32m~/miniconda3/lib/python3.7/concurrent/futures/process.py\u001b[0m in \u001b[0;36mshutdown\u001b[0;34m(self, wait)\u001b[0m\n\u001b[1;32m    654\u001b[0m             \u001b[0;32mif\u001b[0m \u001b[0mwait\u001b[0m\u001b[0;34m:\u001b[0m\u001b[0;34m\u001b[0m\u001b[0m\n\u001b[0;32m--> 655\u001b[0;31m                 \u001b[0mself\u001b[0m\u001b[0;34m.\u001b[0m\u001b[0m_queue_management_thread\u001b[0m\u001b[0;34m.\u001b[0m\u001b[0mjoin\u001b[0m\u001b[0;34m(\u001b[0m\u001b[0;34m)\u001b[0m\u001b[0;34m\u001b[0m\u001b[0m\n\u001b[0m\u001b[1;32m    656\u001b[0m         \u001b[0;31m# To reduce the risk of opening too many files, remove references to\u001b[0m\u001b[0;34m\u001b[0m\u001b[0;34m\u001b[0m\u001b[0m\n",
      "\u001b[0;32m~/miniconda3/lib/python3.7/threading.py\u001b[0m in \u001b[0;36mjoin\u001b[0;34m(self, timeout)\u001b[0m\n\u001b[1;32m   1031\u001b[0m         \u001b[0;32mif\u001b[0m \u001b[0mtimeout\u001b[0m \u001b[0;32mis\u001b[0m \u001b[0;32mNone\u001b[0m\u001b[0;34m:\u001b[0m\u001b[0;34m\u001b[0m\u001b[0m\n\u001b[0;32m-> 1032\u001b[0;31m             \u001b[0mself\u001b[0m\u001b[0;34m.\u001b[0m\u001b[0m_wait_for_tstate_lock\u001b[0m\u001b[0;34m(\u001b[0m\u001b[0;34m)\u001b[0m\u001b[0;34m\u001b[0m\u001b[0m\n\u001b[0m\u001b[1;32m   1033\u001b[0m         \u001b[0;32melse\u001b[0m\u001b[0;34m:\u001b[0m\u001b[0;34m\u001b[0m\u001b[0m\n",
      "\u001b[0;32m~/miniconda3/lib/python3.7/threading.py\u001b[0m in \u001b[0;36m_wait_for_tstate_lock\u001b[0;34m(self, block, timeout)\u001b[0m\n\u001b[1;32m   1047\u001b[0m             \u001b[0;32massert\u001b[0m \u001b[0mself\u001b[0m\u001b[0;34m.\u001b[0m\u001b[0m_is_stopped\u001b[0m\u001b[0;34m\u001b[0m\u001b[0m\n\u001b[0;32m-> 1048\u001b[0;31m         \u001b[0;32melif\u001b[0m \u001b[0mlock\u001b[0m\u001b[0;34m.\u001b[0m\u001b[0macquire\u001b[0m\u001b[0;34m(\u001b[0m\u001b[0mblock\u001b[0m\u001b[0;34m,\u001b[0m \u001b[0mtimeout\u001b[0m\u001b[0;34m)\u001b[0m\u001b[0;34m:\u001b[0m\u001b[0;34m\u001b[0m\u001b[0m\n\u001b[0m\u001b[1;32m   1049\u001b[0m             \u001b[0mlock\u001b[0m\u001b[0;34m.\u001b[0m\u001b[0mrelease\u001b[0m\u001b[0;34m(\u001b[0m\u001b[0;34m)\u001b[0m\u001b[0;34m\u001b[0m\u001b[0m\n",
      "\u001b[0;31mKeyboardInterrupt\u001b[0m: ",
      "\nDuring handling of the above exception, another exception occurred:\n",
      "\u001b[0;31mAttributeError\u001b[0m                            Traceback (most recent call last)",
      "\u001b[0;32m<ipython-input-10-8bfe53f74cad>\u001b[0m in \u001b[0;36m<module>\u001b[0;34m\u001b[0m\n\u001b[1;32m      7\u001b[0m      \"write_threads\":1}\n\u001b[1;32m      8\u001b[0m \u001b[0;34m\u001b[0m\u001b[0m\n\u001b[0;32m----> 9\u001b[0;31m \u001b[0mingest\u001b[0m\u001b[0;34m(\u001b[0m\u001b[0margs\u001b[0m\u001b[0;34m)\u001b[0m\u001b[0;34m\u001b[0m\u001b[0m\n\u001b[0m",
      "\u001b[0;32m~/seqdataloader/seqdataloader/dbingest/__init__.py\u001b[0m in \u001b[0;36mingest\u001b[0;34m(args)\u001b[0m\n\u001b[1;32m    321\u001b[0m         \u001b[0mprint\u001b[0m\u001b[0;34m(\u001b[0m\u001b[0;34m\"keyboard interrupt detected\"\u001b[0m\u001b[0;34m)\u001b[0m\u001b[0;34m\u001b[0m\u001b[0m\n\u001b[1;32m    322\u001b[0m         \u001b[0;31m#shutdown the pool\u001b[0m\u001b[0;34m\u001b[0m\u001b[0;34m\u001b[0m\u001b[0m\n\u001b[0;32m--> 323\u001b[0;31m         \u001b[0mpool\u001b[0m\u001b[0;34m.\u001b[0m\u001b[0mterminate\u001b[0m\u001b[0;34m(\u001b[0m\u001b[0;34m)\u001b[0m\u001b[0;34m\u001b[0m\u001b[0m\n\u001b[0m\u001b[1;32m    324\u001b[0m         \u001b[0mpool\u001b[0m\u001b[0;34m.\u001b[0m\u001b[0mjoin\u001b[0m\u001b[0;34m(\u001b[0m\u001b[0;34m)\u001b[0m\u001b[0;34m\u001b[0m\u001b[0m\n\u001b[1;32m    325\u001b[0m         \u001b[0;31m# Kill remaining child processes\u001b[0m\u001b[0;34m\u001b[0m\u001b[0;34m\u001b[0m\u001b[0m\n",
      "\u001b[0;31mAttributeError\u001b[0m: 'ProcessPoolExecutor' object has no attribute 'terminate'"
     ]
    },
    {
     "name": "stdout",
     "output_type": "stream",
     "text": [
      "got:fc_bigwig for chrom:chr21\n",
      "store_summits:False\n",
      "summit_indicator:None\n",
      "got:ambig_peak for chrom:chr21\n",
      "starting to write output\n",
      "got cur vals\n",
      "idr_peak\n",
      "dict_to_write[key].shape:(46709983,)\n",
      "fc_bigwig\n",
      "dict_to_write[key].shape:(46709983,)\n",
      "ambig_peak\n",
      "dict_to_write[key].shape:(46709983,)\n",
      "updated data dict for writing\n",
      "finalizing the write\n",
      "0\n",
      "1000000\n",
      "2000000\n",
      "3000000\n",
      "4000000\n",
      "5000000\n",
      "6000000\n",
      "7000000\n",
      "8000000\n",
      "9000000\n",
      "10000000\n",
      "11000000\n",
      "12000000\n",
      "13000000\n",
      "14000000\n",
      "15000000\n",
      "16000000\n",
      "17000000\n",
      "18000000\n",
      "19000000\n",
      "20000000\n",
      "21000000\n",
      "22000000\n",
      "23000000\n",
      "24000000\n",
      "25000000\n",
      "26000000\n",
      "27000000\n",
      "28000000\n",
      "29000000\n",
      "30000000\n",
      "31000000\n",
      "32000000\n",
      "33000000\n",
      "34000000\n",
      "35000000\n",
      "36000000\n",
      "37000000\n",
      "38000000\n",
      "39000000\n",
      "40000000\n",
      "41000000\n",
      "42000000\n",
      "43000000\n",
      "44000000\n",
      "45000000\n",
      "46000000\n",
      "length of pool inputs:48\n",
      "made pool\n",
      "start:0, end:1000000\n",
      "start:1000000, end:2000000\n",
      "start:2000000, end:3000000\n",
      "start:3000000, end:4000000\n",
      "start:4000000, end:5000000\n",
      "start:5000000, end:6000000\n",
      "start:6000000, end:7000000\n",
      "start:7000000, end:8000000\n",
      "start:8000000, end:9000000\n",
      "start:9000000, end:10000000\n",
      "start:10000000, end:11000000\n",
      "start:11000000, end:12000000\n",
      "start:12000000, end:13000000\n",
      "start:13000000, end:14000000\n",
      "start:14000000, end:15000000\n",
      "start:15000000, end:16000000\n",
      "start:16000000, end:17000000\n"
     ]
    }
   ],
   "source": [
    "args={\"tiledb_metadata\":\"tasks.dbingest.tsv\",\n",
    "      \"tiledb_group\":\"hepg2_dnase_encode\",\n",
    "     \"overwrite\":True,\n",
    "     \"chrom_sizes\":\"hg38.chrom21.sizes\",\n",
    "     \"chrom_threads\":1,\n",
    "     \"task_threads\":1,\n",
    "     \"write_threads\":1}\n",
    "\n",
    "ingest(args)"
   ]
  },
  {
   "cell_type": "markdown",
   "metadata": {},
   "source": [
    "Or you can run the code as a script: "
   ]
  },
  {
   "cell_type": "code",
   "execution_count": null,
   "metadata": {},
   "outputs": [],
   "source": [
    "!db_ingest --tiledb_metadata tasks.dbingest.tsv \\\n",
    "       --tiledb_group hepg2_dnase_encode \\\n",
    "       --overwrite \\\n",
    "       --chrom_sizes hg38.chrom21.sizes \\\n",
    "       --chrom_threads 1 \\\n",
    "       --task_threads 1 \\\n",
    "       --write_threads 1"
   ]
  },
  {
   "cell_type": "code",
   "execution_count": null,
   "metadata": {},
   "outputs": [],
   "source": [
    "#we can examine the array \n",
    "import tiledb \n",
    "data=tiledb.DenseArray(\"hepg2_dnase_encode/ENCFF209DJG.chr21\",'r')\n",
    "subset=data[30000000:31000000]\n",
    "print(subset.keys())"
   ]
  },
  {
   "cell_type": "code",
   "execution_count": null,
   "metadata": {},
   "outputs": [],
   "source": [
    "subset['fc_bigwig'][0:1000]"
   ]
  },
  {
   "cell_type": "code",
   "execution_count": null,
   "metadata": {},
   "outputs": [],
   "source": [
    "subset['idr_peak'][0:1000]"
   ]
  },
  {
   "cell_type": "markdown",
   "metadata": {},
   "source": [
    "## Genomewide classification labels "
   ]
  },
  {
   "cell_type": "code",
   "execution_count": null,
   "metadata": {},
   "outputs": [],
   "source": [
    "from seqdataloader.labelgen import *\n",
    "classification_params={\n",
    "    'task_list':\"tasks.labelgen.tsv\",\n",
    "    'outf':\"classificationlabels.SummitWithin200bpCenter.tsv.gz\",\n",
    "    'output_type':'gzip',\n",
    "    'chrom_sizes':'hg38.chrom.sizes',\n",
    "    'chroms_to_keep':['chr21'],\n",
    "    \"store_positives_only\":True,\n",
    "    'bin_stride':50,\n",
    "    'left_flank':400,\n",
    "    'right_flank':400,\n",
    "    'bin_size':200,\n",
    "    'task_threads':10,\n",
    "    'chrom_threads':4,\n",
    "    'allow_ambiguous':True,\n",
    "    'labeling_approach':'peak_summit_in_bin_classification'\n",
    "    }\n",
    "genomewide_labels(classification_params)\n",
    "\n"
   ]
  },
  {
   "cell_type": "markdown",
   "metadata": {},
   "source": [
    "## Genomewide regression labels "
   ]
  },
  {
   "cell_type": "code",
   "execution_count": null,
   "metadata": {},
   "outputs": [],
   "source": [
    "regression_params={\n",
    "    'task_list':\"tasks.labelgen.tsv\",\n",
    "    'outf':\"regressionlabels.all_genome_bins_regression.hdf5\",\n",
    "    'output_type':'hdf5',\n",
    "    'chrom_sizes':'hg38.chrom.sizes',\n",
    "    'store_values_above_thresh': 0,\n",
    "    'chroms_to_keep':['chr21'],\n",
    "    'bin_stride':50,\n",
    "    'left_flank':400,\n",
    "    'right_flank':400,\n",
    "    'bin_size':200,\n",
    "    'threads':10,\n",
    "    'subthreads':4,\n",
    "    'labeling_approach':'all_genome_bins_regression'\n",
    "    }\n",
    "genomewide_labels(regression_params)\n"
   ]
  },
  {
   "cell_type": "markdown",
   "metadata": {},
   "source": [
    "let's examine the output dataframe for the regression case: "
   ]
  },
  {
   "cell_type": "code",
   "execution_count": null,
   "metadata": {},
   "outputs": [],
   "source": [
    "regression_data=pd.read_hdf(\"regressionlabels.all_genome_bins_regression.hdf5\")"
   ]
  },
  {
   "cell_type": "code",
   "execution_count": null,
   "metadata": {},
   "outputs": [],
   "source": [
    "regression_data.head()"
   ]
  },
  {
   "cell_type": "code",
   "execution_count": null,
   "metadata": {},
   "outputs": [],
   "source": [
    "regression_negatives=pd.read_hdf(\"universal_negatives.regressionlabels.all_genome_bins_regression.hdf5\")\n",
    "regression_negatives.head"
   ]
  },
  {
   "cell_type": "markdown",
   "metadata": {},
   "source": [
    "for the classification case, we specified \"store_positives_only\", so the script generated two dataframes: \n",
    "    * Universal negatives \n",
    "    * Dataframe where each bin is >0 for at least one task "
   ]
  },
  {
   "cell_type": "code",
   "execution_count": null,
   "metadata": {},
   "outputs": [],
   "source": [
    "classification_pos=pd.read_csv(\"classificationlabels.SummitWithin200bpCenter.tsv.gz\",sep='\\t',header=0)"
   ]
  },
  {
   "cell_type": "code",
   "execution_count": null,
   "metadata": {},
   "outputs": [],
   "source": [
    "classification_pos.head()"
   ]
  },
  {
   "cell_type": "code",
   "execution_count": null,
   "metadata": {},
   "outputs": [],
   "source": [
    "classification_neg=pd.read_csv(\"universal_negatives.classificationlabels.SummitWithin200bpCenter.tsv.gz\",sep='\\t',header=0)"
   ]
  },
  {
   "cell_type": "code",
   "execution_count": null,
   "metadata": {},
   "outputs": [],
   "source": [
    "classification_neg.head()"
   ]
  },
  {
   "cell_type": "code",
   "execution_count": null,
   "metadata": {},
   "outputs": [],
   "source": []
  }
 ],
 "metadata": {
  "kernelspec": {
   "display_name": "Python 3",
   "language": "python",
   "name": "python3"
  },
  "language_info": {
   "codemirror_mode": {
    "name": "ipython",
    "version": 3
   },
   "file_extension": ".py",
   "mimetype": "text/x-python",
   "name": "python",
   "nbconvert_exporter": "python",
   "pygments_lexer": "ipython3",
   "version": "3.7.0"
  }
 },
 "nbformat": 4,
 "nbformat_minor": 2
}
