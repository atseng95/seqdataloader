{
 "cells": [
  {
   "cell_type": "code",
   "execution_count": 1,
   "metadata": {},
   "outputs": [],
   "source": [
    "#load  tutorial utilities \n",
    "%reload_ext autoreload\n",
    "%autoreload 2\n",
    "%matplotlib inline\n",
    "import warnings\n",
    "warnings.filterwarnings('ignore')"
   ]
  },
  {
   "cell_type": "code",
   "execution_count": 2,
   "metadata": {},
   "outputs": [
    {
     "name": "stderr",
     "output_type": "stream",
     "text": [
      "Using TensorFlow backend.\n"
     ]
    }
   ],
   "source": [
    "#unit tests for class seqdataloader.batchproducers.coordbased.coordstovals.BasicTiledbProfileCoordsToVals\n",
    "from seqdataloader.batchproducers.coordbased.coordstovals.tiledb import *\n",
    "\n"
   ]
  },
  {
   "cell_type": "code",
   "execution_count": 3,
   "metadata": {},
   "outputs": [],
   "source": [
    "#generate some test coords objects \n",
    "from collections import namedtuple\n",
    "Coord=namedtuple('Coord','chrom start end isplusstrand')\n",
    "coords=[Coord('chr1',1000000,2000000,True),\n",
    "        Coord('chr2',1000000,2000000,True),\n",
    "        Coord('chr3',1000000,2000000,True),\n",
    "        Coord('chr4',1000000,2000000,True),\n",
    "        Coord('chr5',1000000,2000000,True),\n",
    "        Coord('chr6',1000000,2000000,True),\n",
    "        Coord('chr7',1000000,2000000,True),\n",
    "        Coord('chr1',1000000,2000000,False),\n",
    "        Coord('chr2',1000000,2000000,False),\n",
    "        Coord('chr3',1000000,2000000,False),\n",
    "        Coord('chr4',1000000,2000000,False),\n",
    "        Coord('chr5',1000000,2000000,False),\n",
    "        Coord('chr6',1000000,2000000,False),\n",
    "        Coord('chr7',1000000,2000000,False)]\n",
    "\n",
    "\n",
    "pos_label_source_attribute=\"fc_bigwig\"\n",
    "neg_label_source_attribute=\"fc_bigwig\"\n",
    "\n"
   ]
  },
  {
   "cell_type": "code",
   "execution_count": 5,
   "metadata": {},
   "outputs": [
    {
     "data": {
      "text/plain": [
       "(14, 1000000)"
      ]
     },
     "execution_count": 5,
     "metadata": {},
     "output_type": "execute_result"
    }
   ],
   "source": [
    "\n",
    "#case 1: tiledb_paths is a string\n",
    "tiledb_paths=\"/mnt/data/tiledb/encode/dnase/ENCSR000EOY\"\n",
    "ctov=BasicTiledbProfileCoordsToVals(tiledb_paths=tiledb_paths,\n",
    "                                    pos_label_source_attribute=pos_label_source_attribute,\n",
    "                                    neg_label_source_attribute=neg_label_source_attribute)\n",
    "string_vals=ctov.__call__(coords)\n",
    "string_vals.shape\n"
   ]
  },
  {
   "cell_type": "code",
   "execution_count": 9,
   "metadata": {},
   "outputs": [],
   "source": [
    "coords=[Coord('chr1',1000,2000,True),\n",
    "        Coord('chr2',1000,2000,True),\n",
    "        Coord('chr3',1000,2000,True),\n",
    "        Coord('chr4',1000,2000,True),\n",
    "        Coord('chr5',1000,2000,True),\n",
    "        Coord('chr6',1000,2000,True),\n",
    "        Coord('chr7',1000,2000,True),\n",
    "        Coord('chr1',1000,2000,False),\n",
    "        Coord('chr2',1000,2000,False),\n",
    "        Coord('chr3',1000,2000,False),\n",
    "        Coord('chr4',1000,2000,False),\n",
    "        Coord('chr5',1000,2000,False),\n",
    "        Coord('chr6',1000,2000,False),\n",
    "        Coord('chr7',1000,2000,False)]"
   ]
  },
  {
   "cell_type": "code",
   "execution_count": 10,
   "metadata": {},
   "outputs": [],
   "source": [
    "string_vals=ctov.__call__(coords)\n"
   ]
  },
  {
   "cell_type": "code",
   "execution_count": 6,
   "metadata": {},
   "outputs": [
    {
     "data": {
      "text/plain": [
       "[array([[1.23467004, 1.22853994, 1.24536002, ..., 0.156     , 0.15591   ,\n",
       "         0.15591   ],\n",
       "        [0.16829   , 0.16829   , 0.16829   , ..., 0.67333001, 0.67333001,\n",
       "         0.75756001],\n",
       "        [0.67333001, 0.67333001, 0.67333001, ..., 0.25251999, 0.25251999,\n",
       "         0.25251999],\n",
       "        ...,\n",
       "        [0.92584997, 1.00989997, 1.00989997, ..., 0.28422001, 0.28422001,\n",
       "         0.30206999],\n",
       "        [0.        , 0.        , 0.        , ..., 1.17837   , 1.17837   ,\n",
       "         1.17837   ],\n",
       "        [0.67333001, 0.67333001, 0.67333001, ..., 1.00989997, 1.00989997,\n",
       "         1.00989997]]),\n",
       " array([[1.23467004, 1.22853994, 1.24536002, ..., 0.156     , 0.15591   ,\n",
       "         0.15591   ],\n",
       "        [0.16829   , 0.16829   , 0.16829   , ..., 0.67333001, 0.67333001,\n",
       "         0.75756001],\n",
       "        [0.67333001, 0.67333001, 0.67333001, ..., 0.25251999, 0.25251999,\n",
       "         0.25251999],\n",
       "        ...,\n",
       "        [0.92584997, 1.00989997, 1.00989997, ..., 0.28422001, 0.28422001,\n",
       "         0.30206999],\n",
       "        [0.        , 0.        , 0.        , ..., 1.17837   , 1.17837   ,\n",
       "         1.17837   ],\n",
       "        [0.67333001, 0.67333001, 0.67333001, ..., 1.00989997, 1.00989997,\n",
       "         1.00989997]]),\n",
       " array([[1.23467004, 1.22853994, 1.24536002, ..., 0.156     , 0.15591   ,\n",
       "         0.15591   ],\n",
       "        [0.16829   , 0.16829   , 0.16829   , ..., 0.67333001, 0.67333001,\n",
       "         0.75756001],\n",
       "        [0.67333001, 0.67333001, 0.67333001, ..., 0.25251999, 0.25251999,\n",
       "         0.25251999],\n",
       "        ...,\n",
       "        [0.92584997, 1.00989997, 1.00989997, ..., 0.28422001, 0.28422001,\n",
       "         0.30206999],\n",
       "        [0.        , 0.        , 0.        , ..., 1.17837   , 1.17837   ,\n",
       "         1.17837   ],\n",
       "        [0.67333001, 0.67333001, 0.67333001, ..., 1.00989997, 1.00989997,\n",
       "         1.00989997]])]"
      ]
     },
     "execution_count": 6,
     "metadata": {},
     "output_type": "execute_result"
    }
   ],
   "source": [
    "#case2: tiledb_paths is a list\n",
    "tiledb_paths=[\"/mnt/data/tiledb/encode/dnase/ENCSR000EOY\",\"/mnt/data/tiledb/encode/dnase/ENCSR000EOY\",\"/mnt/data/tiledb/encode/dnase/ENCSR000EOY\"]\n",
    "ctov=BasicTiledbProfileCoordsToVals(tiledb_paths=tiledb_paths,\n",
    "                                    pos_label_source_attribute=pos_label_source_attribute,\n",
    "                                    neg_label_source_attribute=neg_label_source_attribute)\n",
    "list_vals=ctov.__call__(coords)\n",
    "list_vals"
   ]
  },
  {
   "cell_type": "code",
   "execution_count": 7,
   "metadata": {},
   "outputs": [
    {
     "data": {
      "text/plain": [
       "{'mode0': array([[1.23467004, 1.22853994, 1.24536002, ..., 0.156     , 0.15591   ,\n",
       "         0.15591   ],\n",
       "        [0.16829   , 0.16829   , 0.16829   , ..., 0.67333001, 0.67333001,\n",
       "         0.75756001],\n",
       "        [0.67333001, 0.67333001, 0.67333001, ..., 0.25251999, 0.25251999,\n",
       "         0.25251999],\n",
       "        ...,\n",
       "        [0.92584997, 1.00989997, 1.00989997, ..., 0.28422001, 0.28422001,\n",
       "         0.30206999],\n",
       "        [0.        , 0.        , 0.        , ..., 1.17837   , 1.17837   ,\n",
       "         1.17837   ],\n",
       "        [0.67333001, 0.67333001, 0.67333001, ..., 1.00989997, 1.00989997,\n",
       "         1.00989997]]),\n",
       " 'mode1': array([[1.23467004, 1.22853994, 1.24536002, ..., 0.156     , 0.15591   ,\n",
       "         0.15591   ],\n",
       "        [0.16829   , 0.16829   , 0.16829   , ..., 0.67333001, 0.67333001,\n",
       "         0.75756001],\n",
       "        [0.67333001, 0.67333001, 0.67333001, ..., 0.25251999, 0.25251999,\n",
       "         0.25251999],\n",
       "        ...,\n",
       "        [0.92584997, 1.00989997, 1.00989997, ..., 0.28422001, 0.28422001,\n",
       "         0.30206999],\n",
       "        [0.        , 0.        , 0.        , ..., 1.17837   , 1.17837   ,\n",
       "         1.17837   ],\n",
       "        [0.67333001, 0.67333001, 0.67333001, ..., 1.00989997, 1.00989997,\n",
       "         1.00989997]]),\n",
       " 'mode2': array([[1.23467004, 1.22853994, 1.24536002, ..., 0.156     , 0.15591   ,\n",
       "         0.15591   ],\n",
       "        [0.16829   , 0.16829   , 0.16829   , ..., 0.67333001, 0.67333001,\n",
       "         0.75756001],\n",
       "        [0.67333001, 0.67333001, 0.67333001, ..., 0.25251999, 0.25251999,\n",
       "         0.25251999],\n",
       "        ...,\n",
       "        [0.92584997, 1.00989997, 1.00989997, ..., 0.28422001, 0.28422001,\n",
       "         0.30206999],\n",
       "        [0.        , 0.        , 0.        , ..., 1.17837   , 1.17837   ,\n",
       "         1.17837   ],\n",
       "        [0.67333001, 0.67333001, 0.67333001, ..., 1.00989997, 1.00989997,\n",
       "         1.00989997]])}"
      ]
     },
     "execution_count": 7,
     "metadata": {},
     "output_type": "execute_result"
    }
   ],
   "source": [
    "#case3: tiledb_paths is a dict\n",
    "tiledb_paths={'mode0':\"/mnt/data/tiledb/encode/dnase/ENCSR000EOY\",\n",
    "              'mode1':\"/mnt/data/tiledb/encode/dnase/ENCSR000EOY\",\n",
    "              'mode2':\"/mnt/data/tiledb/encode/dnase/ENCSR000EOY\"}\n",
    "\n",
    "ctov=BasicTiledbProfileCoordsToVals(tiledb_paths=tiledb_paths,\n",
    "                                    pos_label_source_attribute=pos_label_source_attribute,\n",
    "                                    neg_label_source_attribute=neg_label_source_attribute)\n",
    "dict_vals=ctov.__call__(coords)\n",
    "dict_vals\n"
   ]
  },
  {
   "cell_type": "code",
   "execution_count": null,
   "metadata": {},
   "outputs": [],
   "source": []
  }
 ],
 "metadata": {
  "kernelspec": {
   "display_name": "Python 3",
   "language": "python",
   "name": "python3"
  },
  "language_info": {
   "codemirror_mode": {
    "name": "ipython",
    "version": 3
   },
   "file_extension": ".py",
   "mimetype": "text/x-python",
   "name": "python",
   "nbconvert_exporter": "python",
   "pygments_lexer": "ipython3",
   "version": "3.7.0"
  }
 },
 "nbformat": 4,
 "nbformat_minor": 2
}
