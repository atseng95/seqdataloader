{
 "cells": [
  {
   "cell_type": "code",
   "execution_count": 4,
   "metadata": {},
   "outputs": [],
   "source": [
    "import pyBigWig"
   ]
  },
  {
   "cell_type": "code",
   "execution_count": 5,
   "metadata": {},
   "outputs": [
    {
     "name": "stdout",
     "output_type": "stream",
     "text": [
      "chr8\t145138636\r\n"
     ]
    }
   ],
   "source": [
    "#get chr8 size from the chrom sizes file used with seqdataloader \n",
    "!grep \"chr8\" /mnt/data/annotations/by_release/hg38/hg38.chrom.sizes "
   ]
  },
  {
   "cell_type": "code",
   "execution_count": 6,
   "metadata": {},
   "outputs": [],
   "source": [
    "task_bigwig=pyBigWig.open(\"/mnt/lab_data2/avyayv/avyayv/ctcf/regressionmodels/bigwigs/ENCFF266BGZ.bigWig\")\n"
   ]
  },
  {
   "cell_type": "code",
   "execution_count": 7,
   "metadata": {},
   "outputs": [
    {
     "name": "stdout",
     "output_type": "stream",
     "text": [
      "145138636\n"
     ]
    }
   ],
   "source": [
    "#get the chrom size for chr8 in bigwig\n",
    "print(task_bigwig.chroms('chr8')) "
   ]
  },
  {
   "cell_type": "code",
   "execution_count": 8,
   "metadata": {},
   "outputs": [],
   "source": [
    "#the sizes match!"
   ]
  },
  {
   "cell_type": "code",
   "execution_count": 9,
   "metadata": {},
   "outputs": [
    {
     "ename": "RuntimeError",
     "evalue": "An error was encountered while fetching statistics.",
     "output_type": "error",
     "traceback": [
      "\u001b[0;31m---------------------------------------------------------------------------\u001b[0m",
      "\u001b[0;31mRuntimeError\u001b[0m                              Traceback (most recent call last)",
      "\u001b[0;32m<ipython-input-9-0ee6724e7a1d>\u001b[0m in \u001b[0;36m<module>\u001b[0;34m\u001b[0m\n\u001b[1;32m      3\u001b[0m \u001b[0mbin_start\u001b[0m\u001b[0;34m=\u001b[0m\u001b[0;36m145068800\u001b[0m\u001b[0;34m\u001b[0m\u001b[0;34m\u001b[0m\u001b[0m\n\u001b[1;32m      4\u001b[0m \u001b[0mbin_size\u001b[0m\u001b[0;34m=\u001b[0m\u001b[0;36m200\u001b[0m\u001b[0;34m\u001b[0m\u001b[0;34m\u001b[0m\u001b[0m\n\u001b[0;32m----> 5\u001b[0;31m \u001b[0mstats\u001b[0m\u001b[0;34m=\u001b[0m\u001b[0mtask_bigwig\u001b[0m\u001b[0;34m.\u001b[0m\u001b[0mstats\u001b[0m\u001b[0;34m(\u001b[0m\u001b[0mchrom\u001b[0m\u001b[0;34m,\u001b[0m\u001b[0mbin_start\u001b[0m\u001b[0;34m,\u001b[0m\u001b[0mbin_start\u001b[0m\u001b[0;34m+\u001b[0m\u001b[0mbin_size\u001b[0m\u001b[0;34m,\u001b[0m\u001b[0;34m\"mean\"\u001b[0m\u001b[0;34m)\u001b[0m\u001b[0;34m\u001b[0m\u001b[0;34m\u001b[0m\u001b[0m\n\u001b[0m",
      "\u001b[0;31mRuntimeError\u001b[0m: An error was encountered while fetching statistics."
     ]
    }
   ],
   "source": [
    "#check the problematic region for seqdataloader: \n",
    "chrom=\"chr8\"\n",
    "bin_start=145068800\n",
    "bin_size=200\n",
    "stats=task_bigwig.stats(chrom,bin_start,bin_start+bin_size,\"mean\")"
   ]
  },
  {
   "cell_type": "code",
   "execution_count": 10,
   "metadata": {},
   "outputs": [],
   "source": [
    "#hhm..."
   ]
  },
  {
   "cell_type": "markdown",
   "metadata": {},
   "source": [
    "![problematic_region](seqdl.debug.png)"
   ]
  },
  {
   "cell_type": "code",
   "execution_count": 11,
   "metadata": {},
   "outputs": [
    {
     "name": "stdout",
     "output_type": "stream",
     "text": [
      "[0.22782100439071656]\n"
     ]
    }
   ],
   "source": [
    "#let's try a region not at the chromosome edge \n",
    "stats_not_edge=task_bigwig.stats(chrom,145000000,145000200,\"mean\")\n",
    "print(stats_not_edge)\n"
   ]
  },
  {
   "cell_type": "code",
   "execution_count": 23,
   "metadata": {},
   "outputs": [
    {
     "name": "stdout",
     "output_type": "stream",
     "text": [
      "[0.8542921225229899]\n"
     ]
    }
   ],
   "source": [
    "#how close can we get? \n",
    "print(task_bigwig.stats(chrom,145067600,145067720,\"mean\"))\n"
   ]
  },
  {
   "cell_type": "code",
   "execution_count": 25,
   "metadata": {},
   "outputs": [
    {
     "ename": "RuntimeError",
     "evalue": "An error was encountered while fetching statistics.",
     "output_type": "error",
     "traceback": [
      "\u001b[0;31m---------------------------------------------------------------------------\u001b[0m",
      "\u001b[0;31mRuntimeError\u001b[0m                              Traceback (most recent call last)",
      "\u001b[0;32m<ipython-input-25-344c6645e002>\u001b[0m in \u001b[0;36m<module>\u001b[0;34m\u001b[0m\n\u001b[0;32m----> 1\u001b[0;31m \u001b[0mprint\u001b[0m\u001b[0;34m(\u001b[0m\u001b[0mtask_bigwig\u001b[0m\u001b[0;34m.\u001b[0m\u001b[0mstats\u001b[0m\u001b[0;34m(\u001b[0m\u001b[0mchrom\u001b[0m\u001b[0;34m,\u001b[0m\u001b[0;36m145067600\u001b[0m\u001b[0;34m,\u001b[0m\u001b[0;36m145067721\u001b[0m\u001b[0;34m,\u001b[0m\u001b[0;34m\"mean\"\u001b[0m\u001b[0;34m)\u001b[0m\u001b[0;34m)\u001b[0m\u001b[0;34m\u001b[0m\u001b[0;34m\u001b[0m\u001b[0m\n\u001b[0m",
      "\u001b[0;31mRuntimeError\u001b[0m: An error was encountered while fetching statistics."
     ]
    }
   ],
   "source": [
    "print(task_bigwig.stats(chrom,145067600,145067721,\"mean\"))\n"
   ]
  },
  {
   "cell_type": "code",
   "execution_count": null,
   "metadata": {},
   "outputs": [],
   "source": []
  }
 ],
 "metadata": {
  "kernelspec": {
   "display_name": "Python 3",
   "language": "python",
   "name": "python3"
  },
  "language_info": {
   "codemirror_mode": {
    "name": "ipython",
    "version": 3
   },
   "file_extension": ".py",
   "mimetype": "text/x-python",
   "name": "python",
   "nbconvert_exporter": "python",
   "pygments_lexer": "ipython3",
   "version": "3.6.7"
  }
 },
 "nbformat": 4,
 "nbformat_minor": 2
}
